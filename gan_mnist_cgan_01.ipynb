{
 "cells": [
  {
   "cell_type": "markdown",
   "id": "2f733552",
   "metadata": {},
   "source": [
    "# my first GAN model\n",
    "\n",
    "\n",
    "# There are still some parts for improvement, such as:\n",
    "## 1.Potential pattern collapse\n",
    "## 2.Insufficient training epochs\n",
    "## 3.Difficulty in generating certain numbers"
   ]
  },
  {
   "cell_type": "code",
   "execution_count": 1,
   "id": "873d919e",
   "metadata": {
    "ExecuteTime": {
     "end_time": "2022-07-25T11:02:27.346125Z",
     "start_time": "2022-07-25T11:02:23.457433Z"
    }
   },
   "outputs": [
    {
     "name": "stdout",
     "output_type": "stream",
     "text": [
      "2.8.0\n"
     ]
    }
   ],
   "source": [
    "%matplotlib inline\n",
    "import os\n",
    "from pathlib import Path\n",
    "import numpy as np\n",
    "import pandas as pd\n",
    "import tensorflow  as tf\n",
    "from tensorflow import keras\n",
    "import matplotlib.pyplot as plt\n",
    "from tensorflow import initializers as init\n",
    "import gc\n",
    "import math\n",
    "\n",
    "\n",
    "print(tf.__version__)\n",
    "gc.collect()\n",
    "tf.keras.backend.clear_session()\n"
   ]
  },
  {
   "cell_type": "code",
   "execution_count": 2,
   "id": "990ec44b",
   "metadata": {},
   "outputs": [],
   "source": [
    "class GAN:\n",
    "    def __init__(self, img_shape, noise_dim):\n",
    "        self.img_shape = img_shape\n",
    "        self.noise_dim = noise_dim\n",
    "        self.g = self.build_g()\n",
    "        self.d = self.build_d()\n",
    "        self.gan = self.build_gan()\n",
    "        self.losses = []\n",
    "        self.check_p = []\n",
    "\n",
    "    def build_d(self):\n",
    "        model = keras.models.Sequential(name=\"d\")\n",
    "        model.add(keras.layers.Conv2D(32, kernel_size=3, strides=(2, 2), padding=\"same\", input_shape=self.img_shape,\n",
    "                                      kernel_initializer=tf.keras.initializers.HeNormal()))\n",
    "        model.add(keras.layers.LeakyReLU(alpha=0.2))\n",
    "        model.add(keras.layers.Conv2D(64, kernel_size=3, strides=(2, 2), padding=\"same\",\n",
    "                                      kernel_initializer= tf.keras.initializers.HeNormal()))\n",
    "        model.add(keras.layers.BatchNormalization())\n",
    "        model.add(keras.layers.LeakyReLU(alpha=0.2))\n",
    "        model.add(keras.layers.Conv2D(128, kernel_size=3, padding=\"same\",\n",
    "                                      kernel_initializer=tf.keras.initializers.HeNormal()))\n",
    "        model.add(keras.layers.BatchNormalization())\n",
    "        model.add(keras.layers.LeakyReLU(alpha=0.2))\n",
    "        model.add(keras.layers.Flatten())\n",
    "        model.add(keras.layers.Dropout(0.2))\n",
    "        model.add(keras.layers.Dense(1, activation='sigmoid'))\n",
    "\n",
    "        model.compile(loss='binary_crossentropy',\n",
    "                      optimizer=tf.keras.optimizers.Adam(1e-5),#0.000051e-5\n",
    "                      metrics=['accuracy'])\n",
    "        return model\n",
    "\n",
    "    def build_g(self):\n",
    "        model = keras.models.Sequential(name=\"g\")\n",
    "        model.add(keras.layers.Dense(7 * 7 * 256, input_shape=(self.noise_dim,),\n",
    "                                     kernel_initializer=tf.keras.initializers.HeNormal()))\n",
    "        model.add(keras.layers.Reshape((7, 7, 256)))\n",
    "        model.add(keras.layers.Conv2DTranspose(128, strides=(2, 2), kernel_size=(3, 3), padding=\"same\",\n",
    "                                               kernel_initializer=tf.keras.initializers.HeNormal()))\n",
    "        model.add(keras.layers.LeakyReLU(alpha=0.2))\n",
    "        model.add(keras.layers.Conv2DTranspose(64, strides=(2, 2), kernel_size=(3, 3), padding=\"same\",\n",
    "                                               kernel_initializer=tf.keras.initializers.HeNormal()))\n",
    "        model.add(keras.layers.BatchNormalization())\n",
    "        model.add(keras.layers.LeakyReLU(alpha=0.2))\n",
    "        model.add(keras.layers.Conv2DTranspose(32, kernel_size=(3, 3), padding=\"same\",\n",
    "                                               kernel_initializer=tf.keras.initializers.HeNormal()))\n",
    "        model.add(keras.layers.BatchNormalization())\n",
    "        model.add(keras.layers.LeakyReLU(alpha=0.2))\n",
    "        model.add(keras.layers.Conv2DTranspose(1, kernel_size=(3, 3), padding=\"same\",\n",
    "                                               kernel_initializer=tf.keras.initializers.HeNormal()))\n",
    "        model.add(keras.layers.Dense(1))\n",
    "        model.add(keras.layers.LeakyReLU(alpha=0.2))\n",
    "\n",
    "        model.compile(loss='binary_crossentropy',\n",
    "                      optimizer=tf.keras.optimizers.Adam(0.0001),\n",
    "                      metrics=['accuracy'])\n",
    "        return model\n",
    "\n",
    "    def build_gan(self):\n",
    "        self.d.trainable = False\n",
    "        x_input = keras.layers.Input(shape=(self.noise_dim,), name='x_input')\n",
    "        x_input_1 = keras.layers.Input(shape=(self.img_shape[0], self.img_shape[1], 1), name='x_input_1')\n",
    "        x = self.g(x_input)\n",
    "        x = keras.layers.Concatenate(axis=-1)([x, x_input_1])\n",
    "        out = self.d(x)\n",
    "        model = keras.Model(inputs=[x_input, x_input_1], outputs=out)\n",
    "\n",
    "        model.compile(loss='binary_crossentropy',\n",
    "                      optimizer=tf.keras.optimizers.Adam(0.0001),\n",
    "                      metrics=['accuracy'])\n",
    "        return model\n",
    "\n",
    "    def train(self, x_train, y_train, batch_sz, iterations, sample_interval, balance_threshold, patience):\n",
    "        y_train1 = tf.keras.layers.Embedding(input_dim=10, output_dim=28 * 28, input_length=1)(y_train)\n",
    "        real_label = tf.keras.layers.Reshape((28, 28, 1))(y_train1)\n",
    "        real_label = tf.constant(real_label, dtype=tf.float32)\n",
    "\n",
    "        real = tf.ones((batch_sz, 1))\n",
    "        fake = tf.zeros((batch_sz, 1))\n",
    "        label_d = tf.concat([real, fake], 0)\n",
    "\n",
    "        balance_count = 0\n",
    "\n",
    "        for ii in range(iterations):\n",
    "            idx = tf.random.uniform((batch_sz,), minval=0, maxval=int(x_train.shape[0]), dtype=tf.int32)\n",
    "            imgs = tf.gather(x_train, idx, axis=0)\n",
    "            imgs = tf.expand_dims(imgs, axis=-1)\n",
    "\n",
    "            imgs_new = tf.gather(real_label, idx, axis=0)\n",
    "            imgs_labeled = tf.concat([imgs, imgs_new], axis=-1)\n",
    "\n",
    "            z = tf.random.normal((batch_sz, 10), mean=0, stddev=1.0, dtype=tf.float32)\n",
    "            embedding_index = tf.random.uniform((batch_sz,), minval=0, maxval=10, dtype=tf.int32)\n",
    "            embedded_labels = tf.keras.layers.Embedding(input_dim=10, output_dim=10, input_length=1)(embedding_index)\n",
    "            train_d = tf.concat([z, embedded_labels], axis=1)\n",
    "\n",
    "            g_fake = self.g.predict(train_d)\n",
    "            g_fake_ = tf.concat([g_fake, imgs_new], axis=-1)\n",
    "\n",
    "            train = tf.concat([imgs_labeled, g_fake_], axis=0)\n",
    "            d_loss = self.d.train_on_batch(train, label_d)\n",
    "\n",
    "            z2 = tf.random.normal((batch_sz, 10), mean=0, stddev=1.0, dtype=tf.float32)\n",
    "            embedding_index = tf.random.uniform((batch_sz,), minval=0, maxval=10, dtype=tf.int32)\n",
    "            embedded_labels = tf.keras.layers.Embedding(input_dim=10, output_dim=10, input_length=1)(embedding_index)\n",
    "            train_g = tf.concat([z2, embedded_labels], axis=1)\n",
    "\n",
    "            g_loss = self.gan.train_on_batch([train_g, imgs_new], real)\n",
    "\n",
    "            if (ii + 1) % sample_interval == 0:\n",
    "                self.losses.append((d_loss, g_loss[0]))\n",
    "                self.check_p.append(ii + 1)\n",
    "                print(f\"{ii + 1} [D loss: {d_loss[0]:.6f}] [D acc: {d_loss[1]:.6f}] [G loss: {g_loss[0]:.6f}]\")\n",
    "\n",
    "                if abs(d_loss[0] - g_loss[0]) < balance_threshold:\n",
    "                    balance_count += 1\n",
    "                    if balance_count >= patience:\n",
    "                        print(\"Discriminator and Generator have reached equilibrium. Stopping training.\")\n",
    "                        break\n",
    "                else:\n",
    "                    balance_count = 0"
   ]
  },
  {
   "cell_type": "code",
   "execution_count": 3,
   "id": "1a4082e6",
   "metadata": {
    "ExecuteTime": {
     "end_time": "2022-07-25T11:02:29.407204Z",
     "start_time": "2022-07-25T11:02:29.159726Z"
    }
   },
   "outputs": [],
   "source": [
    "\n",
    "# Example usage\n",
    "(x_train, y_train), (x_test, y_test) = keras.datasets.mnist.load_data()\n",
    "x_train = tf.convert_to_tensor(x_train, tf.float32)\n",
    "x_train = x_train / 127.5 - 1.0\n",
    "\n",
    "img_shape = (28, 28, 2)\n",
    "noise_dim = 20\n",
    "\n",
    "gan = GAN(img_shape, noise_dim)\n",
    "batch_size =64\n",
    "total_iterations = 5000\n",
    "sample_interval = 100\n",
    "balance_threshold = 0.01  # Difference threshold to consider D and G balanced\n",
    "patience = 10  # Number of consecutive iterations to confirm balance\n"
   ]
  },
  {
   "cell_type": "code",
   "execution_count": 4,
   "id": "ae628599",
   "metadata": {},
   "outputs": [],
   "source": [
    "#gan.gan.summary()"
   ]
  },
  {
   "cell_type": "code",
   "execution_count": 5,
   "id": "4ad2e4de",
   "metadata": {
    "ExecuteTime": {
     "end_time": "2022-07-25T11:02:29.470416Z",
     "start_time": "2022-07-25T11:02:29.411203Z"
    },
    "scrolled": true
   },
   "outputs": [
    {
     "name": "stdout",
     "output_type": "stream",
     "text": [
      "100 [D loss: 1.091684] [D acc: 0.531250] [G loss: 0.072334]\n",
      "200 [D loss: 0.807568] [D acc: 0.601562] [G loss: 0.083579]\n",
      "300 [D loss: 0.623795] [D acc: 0.640625] [G loss: 0.105917]\n",
      "400 [D loss: 0.723401] [D acc: 0.578125] [G loss: 0.155132]\n",
      "500 [D loss: 1.711225] [D acc: 0.125000] [G loss: 0.364910]\n",
      "600 [D loss: 1.733574] [D acc: 0.054688] [G loss: 0.263749]\n",
      "700 [D loss: 1.925168] [D acc: 0.039062] [G loss: 0.140351]\n",
      "800 [D loss: 1.936011] [D acc: 0.015625] [G loss: 0.181129]\n",
      "900 [D loss: 2.099948] [D acc: 0.000000] [G loss: 0.252401]\n",
      "1000 [D loss: 1.805217] [D acc: 0.007812] [G loss: 0.163138]\n",
      "1100 [D loss: 1.558717] [D acc: 0.031250] [G loss: 0.247585]\n",
      "1200 [D loss: 1.484175] [D acc: 0.039062] [G loss: 0.274502]\n",
      "1300 [D loss: 1.510816] [D acc: 0.031250] [G loss: 0.250157]\n",
      "1400 [D loss: 1.465527] [D acc: 0.062500] [G loss: 0.261396]\n",
      "1500 [D loss: 1.344024] [D acc: 0.062500] [G loss: 0.274530]\n",
      "1600 [D loss: 1.304963] [D acc: 0.054688] [G loss: 0.294294]\n",
      "1700 [D loss: 1.293795] [D acc: 0.093750] [G loss: 0.357757]\n",
      "1800 [D loss: 1.228568] [D acc: 0.125000] [G loss: 0.357967]\n",
      "1900 [D loss: 1.212395] [D acc: 0.070312] [G loss: 0.391816]\n",
      "2000 [D loss: 1.153148] [D acc: 0.117188] [G loss: 0.423047]\n",
      "2100 [D loss: 1.113257] [D acc: 0.132812] [G loss: 0.513501]\n",
      "2200 [D loss: 1.071243] [D acc: 0.148438] [G loss: 0.450521]\n",
      "2300 [D loss: 0.973166] [D acc: 0.281250] [G loss: 0.492698]\n",
      "2400 [D loss: 0.983800] [D acc: 0.218750] [G loss: 0.496603]\n",
      "2500 [D loss: 0.994701] [D acc: 0.218750] [G loss: 0.550432]\n",
      "2600 [D loss: 1.028044] [D acc: 0.203125] [G loss: 0.523789]\n",
      "2700 [D loss: 0.973666] [D acc: 0.210938] [G loss: 0.557051]\n",
      "2800 [D loss: 0.929738] [D acc: 0.250000] [G loss: 0.505737]\n",
      "2900 [D loss: 0.994214] [D acc: 0.140625] [G loss: 0.567413]\n",
      "3000 [D loss: 0.866362] [D acc: 0.312500] [G loss: 0.598149]\n",
      "3100 [D loss: 0.924628] [D acc: 0.265625] [G loss: 0.574386]\n",
      "3200 [D loss: 0.858026] [D acc: 0.335938] [G loss: 0.606758]\n",
      "3300 [D loss: 0.858622] [D acc: 0.273438] [G loss: 0.611411]\n",
      "3400 [D loss: 0.846165] [D acc: 0.351562] [G loss: 0.644988]\n",
      "3500 [D loss: 0.847586] [D acc: 0.312500] [G loss: 0.624392]\n",
      "3600 [D loss: 0.855343] [D acc: 0.242188] [G loss: 0.637696]\n",
      "3700 [D loss: 0.826087] [D acc: 0.375000] [G loss: 0.682376]\n",
      "3800 [D loss: 0.810206] [D acc: 0.382812] [G loss: 0.636095]\n",
      "3900 [D loss: 0.887985] [D acc: 0.289062] [G loss: 0.638009]\n",
      "4000 [D loss: 0.796754] [D acc: 0.359375] [G loss: 0.624760]\n",
      "4100 [D loss: 0.783011] [D acc: 0.390625] [G loss: 0.679623]\n",
      "4200 [D loss: 0.793378] [D acc: 0.437500] [G loss: 0.696180]\n",
      "4300 [D loss: 0.806578] [D acc: 0.390625] [G loss: 0.648459]\n",
      "4400 [D loss: 0.778714] [D acc: 0.398438] [G loss: 0.677495]\n",
      "4500 [D loss: 0.776893] [D acc: 0.414062] [G loss: 0.665015]\n",
      "4600 [D loss: 0.778868] [D acc: 0.398438] [G loss: 0.678781]\n",
      "4700 [D loss: 0.744221] [D acc: 0.414062] [G loss: 0.700740]\n",
      "4800 [D loss: 0.779014] [D acc: 0.367188] [G loss: 0.625350]\n",
      "4900 [D loss: 0.801232] [D acc: 0.414062] [G loss: 0.711682]\n",
      "5000 [D loss: 0.754048] [D acc: 0.468750] [G loss: 0.702306]\n"
     ]
    }
   ],
   "source": [
    "gan.train(x_train,\n",
    "          y_train, \n",
    "          batch_size,\n",
    "          total_iterations,\n",
    "          sample_interval,\n",
    "          balance_threshold,\n",
    "          patience)"
   ]
  },
  {
   "cell_type": "code",
   "execution_count": null,
   "id": "4b300cf3",
   "metadata": {},
   "outputs": [],
   "source": []
  },
  {
   "cell_type": "code",
   "execution_count": null,
   "id": "0f6e9c0e",
   "metadata": {},
   "outputs": [],
   "source": []
  },
  {
   "cell_type": "code",
   "execution_count": 6,
   "id": "a3cfbece",
   "metadata": {
    "ExecuteTime": {
     "end_time": "2022-07-26T05:01:57.392851Z",
     "start_time": "2022-07-26T05:01:55.625400Z"
    },
    "scrolled": false
   },
   "outputs": [
    {
     "name": "stdout",
     "output_type": "stream",
     "text": [
      "[[0.4603663 ]\n",
      " [0.5240801 ]\n",
      " [0.5553804 ]\n",
      " [0.5936371 ]\n",
      " [0.29782373]\n",
      " [0.5280575 ]\n",
      " [0.6060068 ]\n",
      " [0.49229962]\n",
      " [0.51817673]\n",
      " [0.45204023]]\n",
      "[[0.49977478]\n",
      " [0.4709053 ]\n",
      " [0.57114947]\n",
      " [0.5005959 ]\n",
      " [0.5535358 ]\n",
      " [0.46232918]\n",
      " [0.5377596 ]\n",
      " [0.55388933]\n",
      " [0.54990983]\n",
      " [0.4958235 ]]\n"
     ]
    }
   ],
   "source": [
    "batch_sz=100\n",
    "\n",
    "y_train1 = tf.keras.layers.Embedding(batch_sz, 28*28, input_length=1)(y_train)\n",
    "label_idx = keras.layers.Reshape((28,28,1))(y_train1)\n",
    "label_idx = np.array(label_idx ) \n",
    "idx = np.random.randint(0,x_train.shape[0],batch_sz)\n",
    "y_train2 = tf.keras.layers.Embedding(batch_sz, 10, input_length=1)(y_train)\n",
    "label_idx_1 = np.array(y_train2)\n",
    "\n",
    "\n",
    "#第一步先训练d,用真实数据\n",
    "#随机取一批batch的数据  \n",
    "idx=tf.random.uniform((batch_sz,),minval = 0,maxval = int(x_train.shape[0]), dtype=tf.int32)\n",
    "\n",
    "imgs  = tf.gather(x_train,idx,axis=0) \n",
    "imgs  = tf.expand_dims(imgs,axis = -1)\n",
    "\n",
    "\n",
    "\n",
    "#把图片和标签 concat起来为一个  28 82 2 的矩阵\n",
    "imgs_new  = tf.gather(label_idx,idx,axis=0) \n",
    "imgs_label = tf.concat([imgs,imgs_new],axis = -1)\n",
    "\n",
    "\n",
    "#第二步用生成器  生成数据\n",
    "#一串随机向量   数量为bz\n",
    "z = tf.random.normal((batch_sz,10),mean = 0,stddev=1.0, dtype=tf.float32)\n",
    "\n",
    "label_ = tf.random.uniform((batch_sz,),minval= 0,maxval=10, dtype=tf.float32)\n",
    "\n",
    "label_= tf.keras.layers.Embedding(batch_sz, 10, input_length=1)(label_)\n",
    "\n",
    "#label嵌入到数据中\n",
    "train_d = tf.concat([z,label_],axis = 1)\n",
    "\n",
    "\n",
    "#生成batch sz多的数据\n",
    "g_fake = gan.g.predict(train_d)\n",
    "\n",
    "#生成的图和 label拼接在一起\n",
    "g_fake_  = tf.concat([g_fake,imgs_new],axis = -1)\n",
    "\n",
    "\n",
    "print(gan.d.predict(imgs_label[0:10]))\n",
    "print(gan.d.predict(g_fake_[0:10]))"
   ]
  },
  {
   "cell_type": "code",
   "execution_count": 7,
   "id": "7df6b4fa",
   "metadata": {},
   "outputs": [
    {
     "data": {
      "text/plain": [
       "(100, 28, 28, 1)"
      ]
     },
     "execution_count": 7,
     "metadata": {},
     "output_type": "execute_result"
    }
   ],
   "source": [
    "g_fake.shape"
   ]
  },
  {
   "cell_type": "code",
   "execution_count": 8,
   "id": "404d4b24",
   "metadata": {
    "ExecuteTime": {
     "end_time": "2022-07-26T05:01:59.325994Z",
     "start_time": "2022-07-26T05:01:59.304861Z"
    }
   },
   "outputs": [
    {
     "data": {
      "text/plain": [
       "(100, 28, 28)"
      ]
     },
     "execution_count": 8,
     "metadata": {},
     "output_type": "execute_result"
    }
   ],
   "source": [
    "l = np.squeeze(g_fake)\n",
    "l.shape"
   ]
  },
  {
   "cell_type": "code",
   "execution_count": 11,
   "id": "70dfab8e",
   "metadata": {
    "ExecuteTime": {
     "end_time": "2022-07-26T05:02:00.590722Z",
     "start_time": "2022-07-26T05:01:59.987152Z"
    },
    "scrolled": true
   },
   "outputs": [
    {
     "data": {
      "image/png": "[encoded data removed]",
      "text/plain": [
       "<Figure size 640x480 with 8 Axes>"
      ]
     },
     "metadata": {},
     "output_type": "display_data"
    }
   ],
   "source": [
    "from matplotlib import pyplot as plt\n",
    "for i in range(8):\n",
    "    plt.subplot(3,4,i+1)\n",
    "    plt.imshow(l[i*10])\n",
    "plt.show()"
   ]
  },
  {
   "cell_type": "code",
   "execution_count": 12,
   "id": "c617ec97",
   "metadata": {},
   "outputs": [
    {
     "name": "stdout",
     "output_type": "stream",
     "text": [
      "INFO:tensorflow:Assets written to: ../gan_cgan/d\\assets\n",
      "INFO:tensorflow:Assets written to: ../gan_cgan/g\\assets\n",
      "INFO:tensorflow:Assets written to: ../gan_cgan/gan\\assets\n"
     ]
    }
   ],
   "source": [
    "gan.d.save('../gan_cgan/d')\n",
    "gan.g.save('../gan_cgan/g')\n",
    "gan.gan.save('../gan_cgan/gan')"
   ]
  },
  {
   "cell_type": "code",
   "execution_count": null,
   "id": "360898e8",
   "metadata": {},
   "outputs": [],
   "source": []
  }
 ],
 "metadata": {
  "kernelspec": {
   "display_name": "Like",
   "language": "python",
   "name": "like"
  },
  "language_info": {
   "codemirror_mode": {
    "name": "ipython",
    "version": 3
   },
   "file_extension": ".py",
   "mimetype": "text/x-python",
   "name": "python",
   "nbconvert_exporter": "python",
   "pygments_lexer": "ipython3",
   "version": "3.7.0"
  }
 },
 "nbformat": 4,
 "nbformat_minor": 5
}
